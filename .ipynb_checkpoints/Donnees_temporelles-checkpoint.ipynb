{
 "cells": [
  {
   "cell_type": "markdown",
   "metadata": {},
   "source": [
    "# Données Temporelles"
   ]
  },
  {
   "cell_type": "markdown",
   "metadata": {},
   "source": [
    "## Analyse de l'évolution temporelle de températures dans différentes villes du monde"
   ]
  },
  {
   "cell_type": "code",
   "execution_count": 3,
   "metadata": {
    "ExecuteTime": {
     "end_time": "2020-09-08T15:12:47.293774Z",
     "start_time": "2020-09-08T15:12:44.796174Z"
    }
   },
   "outputs": [
    {
     "name": "stderr",
     "output_type": "stream",
     "text": [
      "C:\\Users\\kingd\\AppData\\Roaming\\Python\\Python37\\site-packages\\IPython\\core\\interactiveshell.py:3072: DtypeWarning: Columns (2) have mixed types.Specify dtype option on import or set low_memory=False.\n",
      "  interactivity=interactivity, compiler=compiler, result=result)\n"
     ]
    },
    {
     "data": {
      "text/html": [
       "<div>\n",
       "<style scoped>\n",
       "    .dataframe tbody tr th:only-of-type {\n",
       "        vertical-align: middle;\n",
       "    }\n",
       "\n",
       "    .dataframe tbody tr th {\n",
       "        vertical-align: top;\n",
       "    }\n",
       "\n",
       "    .dataframe thead th {\n",
       "        text-align: right;\n",
       "    }\n",
       "</style>\n",
       "<table border=\"1\" class=\"dataframe\">\n",
       "  <thead>\n",
       "    <tr style=\"text-align: right;\">\n",
       "      <th></th>\n",
       "      <th>Region</th>\n",
       "      <th>Country</th>\n",
       "      <th>State</th>\n",
       "      <th>City</th>\n",
       "      <th>Month</th>\n",
       "      <th>Day</th>\n",
       "      <th>Year</th>\n",
       "      <th>AvgTemperature</th>\n",
       "    </tr>\n",
       "  </thead>\n",
       "  <tbody>\n",
       "    <tr>\n",
       "      <th>0</th>\n",
       "      <td>Africa</td>\n",
       "      <td>Algeria</td>\n",
       "      <td>NaN</td>\n",
       "      <td>Algiers</td>\n",
       "      <td>1</td>\n",
       "      <td>1</td>\n",
       "      <td>1995</td>\n",
       "      <td>64.2</td>\n",
       "    </tr>\n",
       "    <tr>\n",
       "      <th>1</th>\n",
       "      <td>Africa</td>\n",
       "      <td>Algeria</td>\n",
       "      <td>NaN</td>\n",
       "      <td>Algiers</td>\n",
       "      <td>1</td>\n",
       "      <td>2</td>\n",
       "      <td>1995</td>\n",
       "      <td>49.4</td>\n",
       "    </tr>\n",
       "    <tr>\n",
       "      <th>2</th>\n",
       "      <td>Africa</td>\n",
       "      <td>Algeria</td>\n",
       "      <td>NaN</td>\n",
       "      <td>Algiers</td>\n",
       "      <td>1</td>\n",
       "      <td>3</td>\n",
       "      <td>1995</td>\n",
       "      <td>48.8</td>\n",
       "    </tr>\n",
       "    <tr>\n",
       "      <th>3</th>\n",
       "      <td>Africa</td>\n",
       "      <td>Algeria</td>\n",
       "      <td>NaN</td>\n",
       "      <td>Algiers</td>\n",
       "      <td>1</td>\n",
       "      <td>4</td>\n",
       "      <td>1995</td>\n",
       "      <td>46.4</td>\n",
       "    </tr>\n",
       "    <tr>\n",
       "      <th>4</th>\n",
       "      <td>Africa</td>\n",
       "      <td>Algeria</td>\n",
       "      <td>NaN</td>\n",
       "      <td>Algiers</td>\n",
       "      <td>1</td>\n",
       "      <td>5</td>\n",
       "      <td>1995</td>\n",
       "      <td>47.9</td>\n",
       "    </tr>\n",
       "    <tr>\n",
       "      <th>...</th>\n",
       "      <td>...</td>\n",
       "      <td>...</td>\n",
       "      <td>...</td>\n",
       "      <td>...</td>\n",
       "      <td>...</td>\n",
       "      <td>...</td>\n",
       "      <td>...</td>\n",
       "      <td>...</td>\n",
       "    </tr>\n",
       "    <tr>\n",
       "      <th>2906322</th>\n",
       "      <td>North America</td>\n",
       "      <td>US</td>\n",
       "      <td>Additional Territories</td>\n",
       "      <td>San Juan Puerto Rico</td>\n",
       "      <td>7</td>\n",
       "      <td>27</td>\n",
       "      <td>2013</td>\n",
       "      <td>82.4</td>\n",
       "    </tr>\n",
       "    <tr>\n",
       "      <th>2906323</th>\n",
       "      <td>North America</td>\n",
       "      <td>US</td>\n",
       "      <td>Additional Territories</td>\n",
       "      <td>San Juan Puerto Rico</td>\n",
       "      <td>7</td>\n",
       "      <td>28</td>\n",
       "      <td>2013</td>\n",
       "      <td>81.6</td>\n",
       "    </tr>\n",
       "    <tr>\n",
       "      <th>2906324</th>\n",
       "      <td>North America</td>\n",
       "      <td>US</td>\n",
       "      <td>Additional Territories</td>\n",
       "      <td>San Juan Puerto Rico</td>\n",
       "      <td>7</td>\n",
       "      <td>29</td>\n",
       "      <td>2013</td>\n",
       "      <td>84.2</td>\n",
       "    </tr>\n",
       "    <tr>\n",
       "      <th>2906325</th>\n",
       "      <td>North America</td>\n",
       "      <td>US</td>\n",
       "      <td>Additional Territories</td>\n",
       "      <td>San Juan Puerto Rico</td>\n",
       "      <td>7</td>\n",
       "      <td>30</td>\n",
       "      <td>2013</td>\n",
       "      <td>83.8</td>\n",
       "    </tr>\n",
       "    <tr>\n",
       "      <th>2906326</th>\n",
       "      <td>North America</td>\n",
       "      <td>US</td>\n",
       "      <td>Additional Territories</td>\n",
       "      <td>San Juan Puerto Rico</td>\n",
       "      <td>7</td>\n",
       "      <td>31</td>\n",
       "      <td>2013</td>\n",
       "      <td>83.6</td>\n",
       "    </tr>\n",
       "  </tbody>\n",
       "</table>\n",
       "<p>2906327 rows × 8 columns</p>\n",
       "</div>"
      ],
      "text/plain": [
       "                Region  Country                   State                  City  \\\n",
       "0               Africa  Algeria                     NaN               Algiers   \n",
       "1               Africa  Algeria                     NaN               Algiers   \n",
       "2               Africa  Algeria                     NaN               Algiers   \n",
       "3               Africa  Algeria                     NaN               Algiers   \n",
       "4               Africa  Algeria                     NaN               Algiers   \n",
       "...                ...      ...                     ...                   ...   \n",
       "2906322  North America       US  Additional Territories  San Juan Puerto Rico   \n",
       "2906323  North America       US  Additional Territories  San Juan Puerto Rico   \n",
       "2906324  North America       US  Additional Territories  San Juan Puerto Rico   \n",
       "2906325  North America       US  Additional Territories  San Juan Puerto Rico   \n",
       "2906326  North America       US  Additional Territories  San Juan Puerto Rico   \n",
       "\n",
       "         Month  Day  Year  AvgTemperature  \n",
       "0            1    1  1995            64.2  \n",
       "1            1    2  1995            49.4  \n",
       "2            1    3  1995            48.8  \n",
       "3            1    4  1995            46.4  \n",
       "4            1    5  1995            47.9  \n",
       "...        ...  ...   ...             ...  \n",
       "2906322      7   27  2013            82.4  \n",
       "2906323      7   28  2013            81.6  \n",
       "2906324      7   29  2013            84.2  \n",
       "2906325      7   30  2013            83.8  \n",
       "2906326      7   31  2013            83.6  \n",
       "\n",
       "[2906327 rows x 8 columns]"
      ]
     },
     "execution_count": 3,
     "metadata": {},
     "output_type": "execute_result"
    }
   ],
   "source": [
    "import pandas as pd\n",
    "import numpy as np\n",
    "import matplotlib.pyplot as plt\n",
    "data = pd.read_csv(\"694560_1215964_bundle_archive/city_temperature.csv\")\n",
    "data"
   ]
  },
  {
   "cell_type": "code",
   "execution_count": 4,
   "metadata": {
    "ExecuteTime": {
     "end_time": "2020-09-08T15:13:03.307804Z",
     "start_time": "2020-09-08T15:13:02.962389Z"
    }
   },
   "outputs": [
    {
     "data": {
      "text/plain": [
       "(North America                        1556681\n",
       " Europe                                381990\n",
       " Asia                                  316663\n",
       " Africa                                251118\n",
       " South/Central America & Carribean     219530\n",
       " Name: Region, dtype: int64,\n",
       " 7)"
      ]
     },
     "execution_count": 4,
     "metadata": {},
     "output_type": "execute_result"
    }
   ],
   "source": [
    "data.Region.value_counts()[:5],data.Region.value_counts().__len__()"
   ]
  },
  {
   "cell_type": "code",
   "execution_count": 5,
   "metadata": {
    "ExecuteTime": {
     "end_time": "2020-09-08T15:13:04.663172Z",
     "start_time": "2020-09-08T15:13:04.346744Z"
    }
   },
   "outputs": [
    {
     "data": {
      "text/plain": [
       "(US           1455337\n",
       " Canada         74245\n",
       " Australia      46330\n",
       " China          46329\n",
       " India          37063\n",
       " Name: Country, dtype: int64,\n",
       " 125)"
      ]
     },
     "execution_count": 5,
     "metadata": {},
     "output_type": "execute_result"
    }
   ],
   "source": [
    "data.Country.value_counts()[:5],data.Country.value_counts().__len__()"
   ]
  },
  {
   "cell_type": "code",
   "execution_count": 6,
   "metadata": {
    "ExecuteTime": {
     "end_time": "2020-09-08T15:13:05.933685Z",
     "start_time": "2020-09-08T15:13:05.681599Z"
    }
   },
   "outputs": [
    {
     "data": {
      "text/plain": [
       "(Texas           129711\n",
       " Ohio             64855\n",
       " Florida          61341\n",
       " Pennsylvania     52076\n",
       " California       46325\n",
       " Name: State, dtype: int64,\n",
       " 52)"
      ]
     },
     "execution_count": 6,
     "metadata": {},
     "output_type": "execute_result"
    }
   ],
   "source": [
    "data.State.value_counts()[:5],data.State.value_counts().__len__()"
   ]
  },
  {
   "cell_type": "code",
   "execution_count": 7,
   "metadata": {
    "ExecuteTime": {
     "end_time": "2020-09-08T15:13:07.724043Z",
     "start_time": "2020-09-08T15:13:07.436117Z"
    }
   },
   "outputs": [
    {
     "data": {
      "text/plain": [
       "(Washington DC    18530\n",
       " Springfield      18530\n",
       " Portland         18530\n",
       " Washington       18530\n",
       " Columbus         18530\n",
       " Name: City, dtype: int64,\n",
       " 321)"
      ]
     },
     "execution_count": 7,
     "metadata": {},
     "output_type": "execute_result"
    }
   ],
   "source": [
    "data.City.value_counts()[:5],data.City.value_counts().__len__()"
   ]
  },
  {
   "cell_type": "code",
   "execution_count": 8,
   "metadata": {
    "ExecuteTime": {
     "end_time": "2020-09-08T15:13:09.845261Z",
     "start_time": "2020-09-08T15:13:09.812368Z"
    }
   },
   "outputs": [
    {
     "data": {
      "text/plain": [
       "1     252698\n",
       "3     252689\n",
       "5     247332\n",
       "4     244491\n",
       "12    243336\n",
       "7     243287\n",
       "8     243177\n",
       "10    243022\n",
       "6     235530\n",
       "9     235274\n",
       "11    235090\n",
       "2     230401\n",
       "Name: Month, dtype: int64"
      ]
     },
     "execution_count": 8,
     "metadata": {},
     "output_type": "execute_result"
    }
   ],
   "source": [
    "data.Month.value_counts()"
   ]
  },
  {
   "cell_type": "code",
   "execution_count": 9,
   "metadata": {
    "ExecuteTime": {
     "end_time": "2020-09-08T15:13:10.372350Z",
     "start_time": "2020-09-08T15:13:10.332432Z"
    }
   },
   "outputs": [
    {
     "data": {
      "text/plain": [
       "3     95671\n",
       "4     95670\n",
       "5     95668\n",
       "6     95668\n",
       "7     95668\n",
       "8     95668\n",
       "9     95668\n",
       "10    95667\n",
       "11    95662\n",
       "12    95659\n",
       "2     95658\n",
       "1     95651\n",
       "13    95631\n",
       "15    95371\n",
       "14    95370\n",
       "17    95367\n",
       "19    95367\n",
       "16    95367\n",
       "18    95366\n",
       "20    95364\n",
       "21    95364\n",
       "22    95364\n",
       "26    95360\n",
       "23    95359\n",
       "24    95359\n",
       "28    95359\n",
       "25    95358\n",
       "27    95358\n",
       "29    89382\n",
       "30    87350\n",
       "31    55525\n",
       "0         8\n",
       "Name: Day, dtype: int64"
      ]
     },
     "execution_count": 9,
     "metadata": {},
     "output_type": "execute_result"
    }
   ],
   "source": [
    "data.Day.value_counts()"
   ]
  },
  {
   "cell_type": "code",
   "execution_count": 10,
   "metadata": {
    "ExecuteTime": {
     "end_time": "2020-09-08T15:13:10.731565Z",
     "start_time": "2020-09-08T15:13:10.702697Z"
    }
   },
   "outputs": [
    {
     "data": {
      "text/plain": [
       "2000    119682\n",
       "1999    119355\n",
       "2001    119355\n",
       "2002    119355\n",
       "2003    119140\n",
       "1998    119082\n",
       "1996    118951\n",
       "1997    118656\n",
       "2004    118645\n",
       "1995    118616\n",
       "2005    117895\n",
       "2006    117647\n",
       "2010    115627\n",
       "2007    115428\n",
       "2008    114908\n",
       "2009    114247\n",
       "2011    113740\n",
       "2012    111993\n",
       "2013    111021\n",
       "2014    109018\n",
       "2015    107498\n",
       "2016    107237\n",
       "2017    106946\n",
       "2018    106698\n",
       "2019    106337\n",
       "2020     38810\n",
       "201        351\n",
       "200         89\n",
       "Name: Year, dtype: int64"
      ]
     },
     "execution_count": 10,
     "metadata": {},
     "output_type": "execute_result"
    }
   ],
   "source": [
    "data.Year.value_counts()"
   ]
  },
  {
   "cell_type": "code",
   "execution_count": 11,
   "metadata": {
    "ExecuteTime": {
     "end_time": "2020-09-08T15:13:11.131169Z",
     "start_time": "2020-09-08T15:13:11.077271Z"
    }
   },
   "outputs": [
    {
     "data": {
      "text/plain": [
       "(-99.0, 110.0, 56.00492078145366)"
      ]
     },
     "execution_count": 11,
     "metadata": {},
     "output_type": "execute_result"
    }
   ],
   "source": [
    "data.AvgTemperature.min(),data.AvgTemperature.max(),data.AvgTemperature.mean()"
   ]
  },
  {
   "cell_type": "code",
   "execution_count": 12,
   "metadata": {
    "ExecuteTime": {
     "end_time": "2020-09-08T15:13:11.483133Z",
     "start_time": "2020-09-08T15:13:11.432294Z"
    }
   },
   "outputs": [
    {
     "data": {
      "text/plain": [
       "-99.0    79672\n",
       " 80.2     7442\n",
       " 80.8     7362\n",
       " 81.1     7247\n",
       " 79.2     7241\n",
       "         ...  \n",
       "-39.3        1\n",
       "-46.9        1\n",
       "-43.4        1\n",
       "-35.4        1\n",
       "-40.0        1\n",
       "Name: AvgTemperature, Length: 1517, dtype: int64"
      ]
     },
     "execution_count": 12,
     "metadata": {},
     "output_type": "execute_result"
    }
   ],
   "source": [
    "data.AvgTemperature.value_counts()"
   ]
  },
  {
   "cell_type": "markdown",
   "metadata": {},
   "source": [
    "### Global:\n",
    "\n",
    "- Quelle est la moyenne des températures par continent et par an ? On gardera seulement les villes qui ont plus de 80% de valeurs renseignées sur la période"
   ]
  },
  {
   "cell_type": "code",
   "execution_count": 13,
   "metadata": {
    "ExecuteTime": {
     "end_time": "2020-09-08T15:13:13.134345Z",
     "start_time": "2020-09-08T15:13:12.877125Z"
    }
   },
   "outputs": [
    {
     "data": {
      "text/plain": [
       "Region\n",
       "Africa                               53.549517\n",
       "Asia                                 62.568652\n",
       "Australia/South Pacific              61.180869\n",
       "Europe                               46.696285\n",
       "Middle East                          68.384554\n",
       "North America                        55.300933\n",
       "South/Central America & Carribean    62.189439\n",
       "Name: AvgTemperature, dtype: float64"
      ]
     },
     "execution_count": 13,
     "metadata": {},
     "output_type": "execute_result"
    }
   ],
   "source": [
    "data.groupby(\"Region\").mean().AvgTemperature"
   ]
  },
  {
   "cell_type": "code",
   "execution_count": 14,
   "metadata": {
    "ExecuteTime": {
     "end_time": "2020-09-08T15:13:13.556450Z",
     "start_time": "2020-09-08T15:13:13.377195Z"
    }
   },
   "outputs": [
    {
     "data": {
      "text/plain": [
       "Year\n",
       "200    -99.000000\n",
       "201    -99.000000\n",
       "1995    50.788443\n",
       "1996    50.433921\n",
       "1997    51.531859\n",
       "1998    50.157098\n",
       "1999    52.386332\n",
       "2000    52.388756\n",
       "2001    54.882582\n",
       "2002    52.598752\n",
       "2003    53.516448\n",
       "2004    54.664908\n",
       "2005    56.302068\n",
       "2006    56.337306\n",
       "2007    57.640728\n",
       "2008    56.853731\n",
       "2009    58.334108\n",
       "2010    57.902224\n",
       "2011    58.848359\n",
       "2012    60.218607\n",
       "2013    58.942099\n",
       "2014    58.488029\n",
       "2015    60.639640\n",
       "2016    60.781074\n",
       "2017    60.952029\n",
       "2018    59.804724\n",
       "2019    59.211184\n",
       "2020    53.775568\n",
       "Name: AvgTemperature, dtype: float64"
      ]
     },
     "execution_count": 14,
     "metadata": {},
     "output_type": "execute_result"
    }
   ],
   "source": [
    "data.groupby(\"Year\").mean().AvgTemperature"
   ]
  },
  {
   "cell_type": "code",
   "execution_count": 15,
   "metadata": {
    "ExecuteTime": {
     "end_time": "2020-09-08T15:13:16.206353Z",
     "start_time": "2020-09-08T15:13:13.733149Z"
    }
   },
   "outputs": [
    {
     "data": {
      "text/plain": [
       "1    2826655\n",
       "0      79672\n",
       "Name: Valid, dtype: int64"
      ]
     },
     "execution_count": 15,
     "metadata": {},
     "output_type": "execute_result"
    }
   ],
   "source": [
    "data_nan = data\n",
    "data_nan[\"AvgTemperatureTruth\"] = data_nan[\"AvgTemperature\"].map(lambda x: 0 if x == -99.0 else 1)\n",
    "data_nan[\"YearValid\"] = data_nan[\"Year\"].map(lambda x: 0 if len(str(x))<4 else 1)\n",
    "data_nan[\"Valid\"] = data_nan[\"AvgTemperatureTruth\"]+data_nan[\"YearValid\"]\n",
    "data_nan[\"Valid\"] = data_nan[\"Valid\"].map(lambda x: 1 if x==2 else 0)\n",
    "data_nan[\"Valid\"].value_counts()"
   ]
  },
  {
   "cell_type": "code",
   "execution_count": 16,
   "metadata": {
    "ExecuteTime": {
     "end_time": "2020-09-08T15:13:16.862062Z",
     "start_time": "2020-09-08T15:13:16.207374Z"
    }
   },
   "outputs": [
    {
     "data": {
      "text/plain": [
       "True     304\n",
       "False     17\n",
       "Name: Valid, dtype: int64"
      ]
     },
     "execution_count": 16,
     "metadata": {},
     "output_type": "execute_result"
    }
   ],
   "source": [
    "truth_dict = dict(data_nan.groupby(\"City\").mean().Valid>.8)\n",
    "truth_list = [i for i in truth_dict.keys() if truth_dict[i]==True]\n",
    "pd.DataFrame(data_nan.groupby(\"City\").mean().Valid>.8).Valid.value_counts()"
   ]
  },
  {
   "cell_type": "code",
   "execution_count": 17,
   "metadata": {
    "ExecuteTime": {
     "end_time": "2020-09-08T15:13:17.062280Z",
     "start_time": "2020-09-08T15:13:16.863058Z"
    }
   },
   "outputs": [
    {
     "data": {
      "text/plain": [
       "(2787923, 11)"
      ]
     },
     "execution_count": 17,
     "metadata": {},
     "output_type": "execute_result"
    }
   ],
   "source": [
    "data_nan = data_nan[data_nan.City.isin(truth_list)]\n",
    "data_nan.shape"
   ]
  },
  {
   "cell_type": "code",
   "execution_count": 18,
   "metadata": {
    "ExecuteTime": {
     "end_time": "2020-09-08T15:13:17.428821Z",
     "start_time": "2020-09-08T15:13:17.063278Z"
    }
   },
   "outputs": [
    {
     "data": {
      "text/plain": [
       "Region                             Year\n",
       "Africa                             201    -99.000000\n",
       "                                   1995    63.266654\n",
       "                                   1996    58.588152\n",
       "                                   1997    48.826538\n",
       "                                   1998    48.430486\n",
       "                                             ...    \n",
       "South/Central America & Carribean  2016    69.569481\n",
       "                                   2017    69.226726\n",
       "                                   2018    69.182445\n",
       "                                   2019    69.438529\n",
       "                                   2020    72.098292\n",
       "Name: AvgTemperature, Length: 185, dtype: float64"
      ]
     },
     "execution_count": 18,
     "metadata": {},
     "output_type": "execute_result"
    }
   ],
   "source": [
    "data_nan.groupby([\"Region\",\"Year\"]).mean().AvgTemperature"
   ]
  },
  {
   "cell_type": "markdown",
   "metadata": {},
   "source": [
    "- Pour quelle ville et quelle année observe t'on l'écart de température le plus grand ?"
   ]
  },
  {
   "cell_type": "code",
   "execution_count": 19,
   "metadata": {
    "ExecuteTime": {
     "end_time": "2020-09-08T15:13:17.583408Z",
     "start_time": "2020-09-08T15:13:17.430794Z"
    }
   },
   "outputs": [
    {
     "data": {
      "text/plain": [
       "Washington DC    18530\n",
       "Springfield      18530\n",
       "Portland         18530\n",
       "Washington       18530\n",
       "Columbus         18530\n",
       "                 ...  \n",
       "Frankfurt         4136\n",
       "Flagstaff         3574\n",
       "Pristina          3427\n",
       "Yerevan           3226\n",
       "Bonn              3133\n",
       "Name: City, Length: 321, dtype: int64"
      ]
     },
     "execution_count": 19,
     "metadata": {},
     "output_type": "execute_result"
    }
   ],
   "source": [
    "data.City.value_counts()"
   ]
  },
  {
   "cell_type": "code",
   "execution_count": 50,
   "metadata": {
    "ExecuteTime": {
     "end_time": "2020-09-08T15:35:05.431391Z",
     "start_time": "2020-09-08T15:34:10.362640Z"
    }
   },
   "outputs": [
    {
     "data": {
      "text/plain": [
       "<AxesSubplot:xlabel='Year'>"
      ]
     },
     "execution_count": 50,
     "metadata": {},
     "output_type": "execute_result"
    },
    {
     "data": {
      "image/png": "[encoded data removed]",
      "text/plain": [
       "<Figure size 1440x864 with 1 Axes>"
      ]
     },
     "metadata": {
      "needs_background": "light"
     },
     "output_type": "display_data"
    }
   ],
   "source": [
    "pd.DataFrame(data.groupby([\"City\",\"Year\"]).mean().AvgTemperature).reset_index(\"Year\").plot.bar(\"Year\",\"AvgTemperature\",xlim=(1994,2021),figsize=(20,12))"
   ]
  },
  {
   "cell_type": "markdown",
   "metadata": {},
   "source": [
    "### Focus sur une ville: Bordeaux\n",
    "\n",
    "- Quelle est l'évolution de la température sur la période observée à Bordeaux ?\n",
    "- Observez-vous une tendance, une saisonnalité ?\n"
   ]
  },
  {
   "cell_type": "code",
   "execution_count": 21,
   "metadata": {
    "ExecuteTime": {
     "end_time": "2020-09-08T15:13:19.057697Z",
     "start_time": "2020-09-08T15:13:18.932056Z"
    }
   },
   "outputs": [
    {
     "data": {
      "text/plain": [
       "Year  Month\n",
       "1995  1        44.435484\n",
       "      2        49.217857\n",
       "      3        48.548387\n",
       "      4        53.846667\n",
       "      5        61.429032\n",
       "                 ...    \n",
       "2020  1        46.738710\n",
       "      2        50.731034\n",
       "      3        50.361290\n",
       "      4        58.000000\n",
       "      5        60.661538\n",
       "Name: AvgTemperature, Length: 305, dtype: float64"
      ]
     },
     "execution_count": 21,
     "metadata": {},
     "output_type": "execute_result"
    }
   ],
   "source": [
    "data[data.City==\"Bordeaux\"].groupby([\"Year\",\"Month\"]).mean().AvgTemperature"
   ]
  },
  {
   "cell_type": "code",
   "execution_count": 23,
   "metadata": {
    "ExecuteTime": {
     "end_time": "2020-09-08T15:13:48.151000Z",
     "start_time": "2020-09-08T15:13:48.017640Z"
    }
   },
   "outputs": [
    {
     "data": {
      "text/plain": [
       "Year  Month\n",
       "1995  1        44.435484\n",
       "      2        49.217857\n",
       "      3        48.548387\n",
       "      4        53.846667\n",
       "      5        61.429032\n",
       "                 ...    \n",
       "2020  1        46.738710\n",
       "      2        50.731034\n",
       "      3        50.361290\n",
       "      4        58.000000\n",
       "      5        60.661538\n",
       "Name: AvgTemperature, Length: 305, dtype: float64"
      ]
     },
     "execution_count": 23,
     "metadata": {},
     "output_type": "execute_result"
    }
   ],
   "source": [
    "data[data.City==\"Bordeaux\"].groupby([\"Year\",\"Month\"]).mean().AvgTemperature"
   ]
  },
  {
   "cell_type": "code",
   "execution_count": null,
   "metadata": {},
   "outputs": [],
   "source": []
  },
  {
   "cell_type": "markdown",
   "metadata": {},
   "source": [
    "### Théorique:\n",
    "\n",
    "- Qu'est-ce qu'un modèle ARIMA ?"
   ]
  },
  {
   "cell_type": "markdown",
   "metadata": {},
   "source": [
    "### Mise en pratique\n",
    "\n",
    "- Modéliser la température à Bordeaux par un modèle ARIMA\n",
    "- Faites des prédictions sur l'année 2019 à partir de l'historique\n",
    "- Comparer avec la vraie distribution de températures cette année la"
   ]
  },
  {
   "cell_type": "markdown",
   "metadata": {
    "ExecuteTime": {
     "end_time": "2020-09-08T10:44:09.158471Z",
     "start_time": "2020-09-08T10:44:09.149495Z"
    }
   },
   "source": [
    "### Bonus:\n",
    "\n",
    "- A partir de la série des différences (X(t)-X(t-1), ..., X(t) - X(t-5)), entrainer un modèle de régression linéaire pour prédire la suite de la série\n"
   ]
  },
  {
   "cell_type": "code",
   "execution_count": null,
   "metadata": {},
   "outputs": [],
   "source": []
  }
 ],
 "metadata": {
  "kernelspec": {
   "display_name": "Python 3.7.5 64-bit",
   "language": "python",
   "name": "python37564bit18088624a39a401db8df2f5a44f5b7a9"
  },
  "language_info": {
   "codemirror_mode": {
    "name": "ipython",
    "version": 3
   },
   "file_extension": ".py",
   "mimetype": "text/x-python",
   "name": "python",
   "nbconvert_exporter": "python",
   "pygments_lexer": "ipython3",
   "version": "3.7.5"
  }
 },
 "nbformat": 4,
 "nbformat_minor": 4
}
